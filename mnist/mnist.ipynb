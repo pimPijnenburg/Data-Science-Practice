{
 "cells": [
  {
   "cell_type": "code",
   "execution_count": 1,
   "metadata": {},
   "outputs": [],
   "source": [
    "import numpy as np \n",
    "import pandas as pd\n",
    "import matplotlib.pyplot as plt\n",
    "train = pd.read_csv('train.csv')\n",
    "test = pd.read_csv('test.csv')"
   ]
  },
  {
   "cell_type": "code",
   "execution_count": 2,
   "metadata": {},
   "outputs": [
    {
     "data": {
      "text/plain": [
       "(29400, 28, 28, 1)"
      ]
     },
     "execution_count": 2,
     "metadata": {},
     "output_type": "execute_result"
    }
   ],
   "source": [
    "y = train['label']\n",
    "X = train.drop('label', axis = 1)\n",
    "X /= 255\n",
    "\n",
    "train_idx, val_idx = 29400, 29400 + 6300\n",
    "\n",
    "X_train, y_train =  X.iloc[:train_idx].values.reshape(-1,28, 28, 1),            y.iloc[:train_idx].values\n",
    "X_val, y_val =      X.iloc[train_idx:val_idx].values.reshape(-1, 28, 28, 1),    y.iloc[train_idx:val_idx].values\n",
    "X_test, y_test =    X.iloc[val_idx:].values.reshape(-1, 28, 28, 1),             y.iloc[val_idx:].values\n",
    "\n",
    "X_train.shape"
   ]
  },
  {
   "cell_type": "code",
   "execution_count": 15,
   "metadata": {},
   "outputs": [
    {
     "name": "stdout",
     "output_type": "stream",
     "text": [
      "Epoch 1/20\n",
      "\u001b[1m919/919\u001b[0m \u001b[32m━━━━━━━━━━━━━━━━━━━━\u001b[0m\u001b[37m\u001b[0m \u001b[1m1s\u001b[0m 656us/step - accuracy: 0.7957 - loss: 0.6584\n",
      "Epoch 2/20\n",
      "\u001b[1m919/919\u001b[0m \u001b[32m━━━━━━━━━━━━━━━━━━━━\u001b[0m\u001b[37m\u001b[0m \u001b[1m1s\u001b[0m 657us/step - accuracy: 0.9525 - loss: 0.1566\n",
      "Epoch 3/20\n",
      "\u001b[1m919/919\u001b[0m \u001b[32m━━━━━━━━━━━━━━━━━━━━\u001b[0m\u001b[37m\u001b[0m \u001b[1m1s\u001b[0m 687us/step - accuracy: 0.9685 - loss: 0.1022\n",
      "Epoch 4/20\n",
      "\u001b[1m919/919\u001b[0m \u001b[32m━━━━━━━━━━━━━━━━━━━━\u001b[0m\u001b[37m\u001b[0m \u001b[1m1s\u001b[0m 713us/step - accuracy: 0.9781 - loss: 0.0749\n",
      "Epoch 5/20\n",
      "\u001b[1m919/919\u001b[0m \u001b[32m━━━━━━━━━━━━━━━━━━━━\u001b[0m\u001b[37m\u001b[0m \u001b[1m1s\u001b[0m 689us/step - accuracy: 0.9829 - loss: 0.0564\n",
      "Epoch 6/20\n",
      "\u001b[1m919/919\u001b[0m \u001b[32m━━━━━━━━━━━━━━━━━━━━\u001b[0m\u001b[37m\u001b[0m \u001b[1m1s\u001b[0m 675us/step - accuracy: 0.9858 - loss: 0.0437\n",
      "Epoch 7/20\n",
      "\u001b[1m919/919\u001b[0m \u001b[32m━━━━━━━━━━━━━━━━━━━━\u001b[0m\u001b[37m\u001b[0m \u001b[1m1s\u001b[0m 644us/step - accuracy: 0.9872 - loss: 0.0396\n",
      "Epoch 8/20\n",
      "\u001b[1m919/919\u001b[0m \u001b[32m━━━━━━━━━━━━━━━━━━━━\u001b[0m\u001b[37m\u001b[0m \u001b[1m1s\u001b[0m 644us/step - accuracy: 0.9906 - loss: 0.0284\n",
      "Epoch 9/20\n",
      "\u001b[1m919/919\u001b[0m \u001b[32m━━━━━━━━━━━━━━━━━━━━\u001b[0m\u001b[37m\u001b[0m \u001b[1m1s\u001b[0m 647us/step - accuracy: 0.9909 - loss: 0.0269\n",
      "Epoch 10/20\n",
      "\u001b[1m919/919\u001b[0m \u001b[32m━━━━━━━━━━━━━━━━━━━━\u001b[0m\u001b[37m\u001b[0m \u001b[1m1s\u001b[0m 657us/step - accuracy: 0.9924 - loss: 0.0238\n",
      "Epoch 11/20\n",
      "\u001b[1m919/919\u001b[0m \u001b[32m━━━━━━━━━━━━━━━━━━━━\u001b[0m\u001b[37m\u001b[0m \u001b[1m1s\u001b[0m 657us/step - accuracy: 0.9930 - loss: 0.0204\n",
      "Epoch 12/20\n",
      "\u001b[1m919/919\u001b[0m \u001b[32m━━━━━━━━━━━━━━━━━━━━\u001b[0m\u001b[37m\u001b[0m \u001b[1m1s\u001b[0m 635us/step - accuracy: 0.9926 - loss: 0.0236\n",
      "Epoch 13/20\n",
      "\u001b[1m919/919\u001b[0m \u001b[32m━━━━━━━━━━━━━━━━━━━━\u001b[0m\u001b[37m\u001b[0m \u001b[1m1s\u001b[0m 651us/step - accuracy: 0.9953 - loss: 0.0142\n",
      "Epoch 14/20\n",
      "\u001b[1m919/919\u001b[0m \u001b[32m━━━━━━━━━━━━━━━━━━━━\u001b[0m\u001b[37m\u001b[0m \u001b[1m1s\u001b[0m 640us/step - accuracy: 0.9964 - loss: 0.0108\n",
      "Epoch 15/20\n",
      "\u001b[1m919/919\u001b[0m \u001b[32m━━━━━━━━━━━━━━━━━━━━\u001b[0m\u001b[37m\u001b[0m \u001b[1m1s\u001b[0m 665us/step - accuracy: 0.9936 - loss: 0.0198\n",
      "Epoch 16/20\n",
      "\u001b[1m919/919\u001b[0m \u001b[32m━━━━━━━━━━━━━━━━━━━━\u001b[0m\u001b[37m\u001b[0m \u001b[1m1s\u001b[0m 645us/step - accuracy: 0.9954 - loss: 0.0137\n",
      "Epoch 17/20\n",
      "\u001b[1m919/919\u001b[0m \u001b[32m━━━━━━━━━━━━━━━━━━━━\u001b[0m\u001b[37m\u001b[0m \u001b[1m1s\u001b[0m 642us/step - accuracy: 0.9961 - loss: 0.0117\n",
      "Epoch 18/20\n",
      "\u001b[1m919/919\u001b[0m \u001b[32m━━━━━━━━━━━━━━━━━━━━\u001b[0m\u001b[37m\u001b[0m \u001b[1m1s\u001b[0m 653us/step - accuracy: 0.9959 - loss: 0.0105\n",
      "Epoch 19/20\n",
      "\u001b[1m919/919\u001b[0m \u001b[32m━━━━━━━━━━━━━━━━━━━━\u001b[0m\u001b[37m\u001b[0m \u001b[1m1s\u001b[0m 654us/step - accuracy: 0.9957 - loss: 0.0149\n",
      "Epoch 20/20\n",
      "\u001b[1m919/919\u001b[0m \u001b[32m━━━━━━━━━━━━━━━━━━━━\u001b[0m\u001b[37m\u001b[0m \u001b[1m1s\u001b[0m 641us/step - accuracy: 0.9945 - loss: 0.0143\n",
      "\u001b[1m197/197\u001b[0m \u001b[32m━━━━━━━━━━━━━━━━━━━━\u001b[0m\u001b[37m\u001b[0m \u001b[1m0s\u001b[0m 322us/step\n",
      "Accuracy on the validation set: 0.9727\n"
     ]
    }
   ],
   "source": [
    "import tensorflow as tf\n",
    "import tensorflow.keras.layers as tfl\n",
    "from sklearn.metrics import accuracy_score\n",
    "np.random.seed(1)\n",
    "\n",
    "model = tf.keras.Sequential([\n",
    "    tfl.Flatten(input_shape = (28, 28)), \n",
    "    tfl.Dense(128, activation= 'relu'), \n",
    "    tfl.Dense(64, activation = 'relu'), \n",
    "    tfl.Dense(32, activation= 'relu'), \n",
    "    tfl.Dense(10, activation = 'softmax')\n",
    "])\n",
    "\n",
    "model.compile(optimizer = 'adam', \n",
    "              loss = tf.keras.losses.SparseCategoricalCrossentropy(from_logits= False), \n",
    "              metrics = ['accuracy'])\n",
    "\n",
    "model.fit(X_train, y_train, epochs = 20, verbose= 1)\n",
    "\n",
    "val_pred_probs = model.predict(X_val)\n",
    "val_pred = tf.argmax(val_pred_probs, axis=1).numpy()\n",
    "val_accuracy = accuracy_score(y_val, val_pred)\n",
    "print('Accuracy on the validation set:', round(val_accuracy, 4))"
   ]
  }
 ],
 "metadata": {
  "kernelspec": {
   "display_name": "base",
   "language": "python",
   "name": "python3"
  },
  "language_info": {
   "codemirror_mode": {
    "name": "ipython",
    "version": 3
   },
   "file_extension": ".py",
   "mimetype": "text/x-python",
   "name": "python",
   "nbconvert_exporter": "python",
   "pygments_lexer": "ipython3",
   "version": "3.12.4"
  }
 },
 "nbformat": 4,
 "nbformat_minor": 2
}
