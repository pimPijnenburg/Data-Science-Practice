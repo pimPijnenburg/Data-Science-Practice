{
 "cells": [
  {
   "cell_type": "code",
   "execution_count": 6,
   "metadata": {},
   "outputs": [
    {
     "ename": "AttributeError",
     "evalue": "module 'matplotlib' has no attribute 'get_data_path'",
     "output_type": "error",
     "traceback": [
      "\u001b[0;31m---------------------------------------------------------------------------\u001b[0m",
      "\u001b[0;31mAttributeError\u001b[0m                            Traceback (most recent call last)",
      "Cell \u001b[0;32mIn[6], line 3\u001b[0m\n\u001b[1;32m      1\u001b[0m \u001b[38;5;28;01mimport\u001b[39;00m \u001b[38;5;21;01mnumpy\u001b[39;00m \u001b[38;5;28;01mas\u001b[39;00m \u001b[38;5;21;01mnp\u001b[39;00m \n\u001b[1;32m      2\u001b[0m \u001b[38;5;28;01mimport\u001b[39;00m \u001b[38;5;21;01mpandas\u001b[39;00m \u001b[38;5;28;01mas\u001b[39;00m \u001b[38;5;21;01mpd\u001b[39;00m\n\u001b[0;32m----> 3\u001b[0m \u001b[38;5;28;01mimport\u001b[39;00m \u001b[38;5;21;01mmatplotlib\u001b[39;00m\u001b[38;5;21;01m.\u001b[39;00m\u001b[38;5;21;01mpyplot\u001b[39;00m \u001b[38;5;28;01mas\u001b[39;00m \u001b[38;5;21;01mplt\u001b[39;00m \n\u001b[1;32m      4\u001b[0m \u001b[38;5;28;01mimport\u001b[39;00m \u001b[38;5;21;01mseaborn\u001b[39;00m \u001b[38;5;28;01mas\u001b[39;00m \u001b[38;5;21;01msns\u001b[39;00m\n\u001b[1;32m      6\u001b[0m train \u001b[38;5;241m=\u001b[39m pd\u001b[38;5;241m.\u001b[39mread_csv(\u001b[38;5;124m'\u001b[39m\u001b[38;5;124mtrain.csv\u001b[39m\u001b[38;5;124m'\u001b[39m, index_col\u001b[38;5;241m=\u001b[39m [\u001b[38;5;124m'\u001b[39m\u001b[38;5;124mPassengerId\u001b[39m\u001b[38;5;124m'\u001b[39m])\n",
      "File \u001b[0;32m/opt/anaconda3/lib/python3.12/site-packages/matplotlib/__init__.py:964\u001b[0m\n\u001b[1;32m    957\u001b[0m     \u001b[38;5;28;01mreturn\u001b[39;00m config\n\u001b[1;32m    960\u001b[0m \u001b[38;5;66;03m# When constructing the global instances, we need to perform certain updates\u001b[39;00m\n\u001b[1;32m    961\u001b[0m \u001b[38;5;66;03m# by explicitly calling the superclass (dict.update, dict.items) to avoid\u001b[39;00m\n\u001b[1;32m    962\u001b[0m \u001b[38;5;66;03m# triggering resolution of _auto_backend_sentinel.\u001b[39;00m\n\u001b[1;32m    963\u001b[0m rcParamsDefault \u001b[38;5;241m=\u001b[39m _rc_params_in_file(\n\u001b[0;32m--> 964\u001b[0m     cbook\u001b[38;5;241m.\u001b[39m_get_data_path(\u001b[38;5;124m\"\u001b[39m\u001b[38;5;124mmatplotlibrc\u001b[39m\u001b[38;5;124m\"\u001b[39m),\n\u001b[1;32m    965\u001b[0m     \u001b[38;5;66;03m# Strip leading comment.\u001b[39;00m\n\u001b[1;32m    966\u001b[0m     transform\u001b[38;5;241m=\u001b[39m\u001b[38;5;28;01mlambda\u001b[39;00m line: line[\u001b[38;5;241m1\u001b[39m:] \u001b[38;5;28;01mif\u001b[39;00m line\u001b[38;5;241m.\u001b[39mstartswith(\u001b[38;5;124m\"\u001b[39m\u001b[38;5;124m#\u001b[39m\u001b[38;5;124m\"\u001b[39m) \u001b[38;5;28;01melse\u001b[39;00m line,\n\u001b[1;32m    967\u001b[0m     fail_on_error\u001b[38;5;241m=\u001b[39m\u001b[38;5;28;01mTrue\u001b[39;00m)\n\u001b[1;32m    968\u001b[0m \u001b[38;5;28mdict\u001b[39m\u001b[38;5;241m.\u001b[39mupdate(rcParamsDefault, rcsetup\u001b[38;5;241m.\u001b[39m_hardcoded_defaults)\n\u001b[1;32m    969\u001b[0m \u001b[38;5;66;03m# Normally, the default matplotlibrc file contains *no* entry for backend (the\u001b[39;00m\n\u001b[1;32m    970\u001b[0m \u001b[38;5;66;03m# corresponding line starts with ##, not #; we fill on _auto_backend_sentinel\u001b[39;00m\n\u001b[1;32m    971\u001b[0m \u001b[38;5;66;03m# in that case.  However, packagers can set a different default backend\u001b[39;00m\n\u001b[1;32m    972\u001b[0m \u001b[38;5;66;03m# (resulting in a normal `#backend: foo` line) in which case we should *not*\u001b[39;00m\n\u001b[1;32m    973\u001b[0m \u001b[38;5;66;03m# fill in _auto_backend_sentinel.\u001b[39;00m\n",
      "File \u001b[0;32m/opt/anaconda3/lib/python3.12/site-packages/matplotlib/cbook.py:545\u001b[0m, in \u001b[0;36m_get_data_path\u001b[0;34m(*args)\u001b[0m\n\u001b[1;32m    539\u001b[0m \u001b[38;5;28;01mdef\u001b[39;00m \u001b[38;5;21m_get_data_path\u001b[39m(\u001b[38;5;241m*\u001b[39margs):\n\u001b[1;32m    540\u001b[0m \u001b[38;5;250m    \u001b[39m\u001b[38;5;124;03m\"\"\"\u001b[39;00m\n\u001b[1;32m    541\u001b[0m \u001b[38;5;124;03m    Return the `pathlib.Path` to a resource file provided by Matplotlib.\u001b[39;00m\n\u001b[1;32m    542\u001b[0m \n\u001b[1;32m    543\u001b[0m \u001b[38;5;124;03m    ``*args`` specify a path relative to the base data path.\u001b[39;00m\n\u001b[1;32m    544\u001b[0m \u001b[38;5;124;03m    \"\"\"\u001b[39;00m\n\u001b[0;32m--> 545\u001b[0m     \u001b[38;5;28;01mreturn\u001b[39;00m Path(matplotlib\u001b[38;5;241m.\u001b[39mget_data_path(), \u001b[38;5;241m*\u001b[39margs)\n",
      "\u001b[0;31mAttributeError\u001b[0m: module 'matplotlib' has no attribute 'get_data_path'"
     ]
    }
   ],
   "source": [
    "import numpy as np \n",
    "import pandas as pd\n",
    "import matplotlib.pyplot as plt \n",
    "import seaborn as sns\n",
    "\n",
    "train = pd.read_csv('train.csv', index_col= ['PassengerId'])\n",
    "test = pd.read_csv('test.csv', index_col = ['PassengerId'])\n",
    "\n",
    "def drop_columns(df):\n",
    "    for_dropping = ['Cabin', 'Name', 'Ticket']\n",
    "    return df.drop(for_dropping, axis=1)\n",
    "train, test = drop_columns(train), drop_columns(test)\n",
    "\n",
    "def dummy_encoding(df): \n",
    "    for_encoding = ['Sex','Embarked']\n",
    "    df['Embarked'] = df['Embarked'].fillna(df['Embarked'].mode())\n",
    "    dummies = pd.get_dummies(df[for_encoding], dtype = int)\n",
    "    df = df.drop(for_encoding, axis = 1)\n",
    "    df = pd.concat([df, dummies], axis = 1)\n",
    "    return df\n",
    "train, test = dummy_encoding(train), dummy_encoding(test)\n",
    "\n",
    "def impute_mean(df): \n",
    "    df['Age'] = df['Age'].fillna(df['Age'].median())\n",
    "    df['Fare'] = df['Fare'].fillna(df['Fare'].median())\n",
    "    return df\n",
    "train, test = impute_mean(train), impute_mean(test)\n",
    "\n",
    "def categorize_age(df):\n",
    "    bins, labels = [0, 13, 18, 65, np.inf], [0, 1, 2, 3]\n",
    "    df['Age_cat'] = pd.cut(df['Age'], bins=bins, labels=labels, right=False)\n",
    "    return df\n",
    "train, test = categorize_age(train), categorize_age(test)\n",
    "\n",
    "def family_matters(df): \n",
    "    df['Family_size'] = df['SibSp'] + df['Parch'] + 1\n",
    "    df['Alone'] = (df['Family_size'] == 1).astype(int)\n",
    "    df['Avg_fare'] = df['Fare'] / df['Family_size']\n",
    "    df['Poor'] = (df['Fare'] <= 8).astype(int)\n",
    "    return df\n",
    "train, test = family_matters(train), family_matters(test)\n",
    "\n",
    "def survival_proba(df): \n",
    "    survival_proba_class = round((train.groupby('Pclass')['Survived'].sum() / train.groupby('Pclass').size()),4).to_dict()\n",
    "    df['Survival_proba_class'] = df['Pclass'].map(survival_proba_class)\n",
    "    \n",
    "    survival_females_class = train[(train['Sex_female'] == 1) & (train['Survived'] ==1)].groupby('Pclass').size()\n",
    "    total_females_class = train[train['Sex_female'] == 1].groupby('Pclass').size()\n",
    "    proba_survival_females = round(survival_females_class / total_females_class, 4).to_dict()\n",
    "    df['Survival_proba_females'] = 0.0\n",
    "    df.loc[df['Sex_female'] == 1, 'Survival_proba_females'] = df.loc[df['Sex_female'] == 1, 'Pclass'].map(proba_survival_females)\n",
    "    \n",
    "    survival_male_class = train[(train['Sex_male'] == 1) & (train['Survived'] ==1)].groupby('Pclass').size()\n",
    "    total_male_class = train[train['Sex_male'] == 1].groupby('Pclass').size()\n",
    "    proba_survival_males = round(survival_male_class / total_male_class, 4)\n",
    "    df['Survival_proba_males'] = 0.0\n",
    "    df.loc[df['Sex_male'] == 1, 'Survival_proba_males'] = df.loc[df['Sex_male'] == 1, 'Pclass'].map(proba_survival_males)\n",
    "    \n",
    "    age_class_survived = train[train['Survived'] == 1].groupby('Age_cat', observed= False).size()\n",
    "    total_age_class = train.groupby('Age_cat', observed= False).size()\n",
    "    proba_survival_age_class = round(age_class_survived / total_age_class, 4).to_dict()\n",
    "    df['Survival_proba_age_class'] = 0.0\n",
    "    df['Survival_proba_age_class'] = df['Age_cat'].map(proba_survival_age_class)\n",
    "        \n",
    "    return df\n",
    "train, test  = survival_proba(train), survival_proba(test)\n",
    "\n",
    "display(train.head(3))\n",
    "np.random.seed(1)"
   ]
  },
  {
   "cell_type": "code",
   "execution_count": null,
   "metadata": {},
   "outputs": [],
   "source": [
    "from sklearn.model_selection import train_test_split\n",
    "from sklearn.metrics import accuracy_score\n",
    "from sklearn.preprocessing import MinMaxScaler\n",
    "\n",
    "X = train.drop('Survived', axis = 1).values\n",
    "y = train['Survived'].values\n",
    "\n",
    "X = MinMaxScaler(feature_range = (-1, 1)).fit_transform(X)\n",
    "test_scaled = MinMaxScaler(feature_range= (-1, 1)).fit_transform(test)\n",
    "\n",
    "X_train, X_test, y_train, y_test = train_test_split(X, y, test_size = 0.3, random_state= 1, shuffle = True)"
   ]
  },
  {
   "cell_type": "code",
   "execution_count": null,
   "metadata": {},
   "outputs": [
    {
     "name": "stdout",
     "output_type": "stream",
     "text": [
      "--- CLASSIFIER SCORE ---\n"
     ]
    },
    {
     "data": {
      "text/html": [
       "<div>\n",
       "<style scoped>\n",
       "    .dataframe tbody tr th:only-of-type {\n",
       "        vertical-align: middle;\n",
       "    }\n",
       "\n",
       "    .dataframe tbody tr th {\n",
       "        vertical-align: top;\n",
       "    }\n",
       "\n",
       "    .dataframe thead th {\n",
       "        text-align: right;\n",
       "    }\n",
       "</style>\n",
       "<table border=\"1\" class=\"dataframe\">\n",
       "  <thead>\n",
       "    <tr style=\"text-align: right;\">\n",
       "      <th></th>\n",
       "      <th>Classifier</th>\n",
       "      <th>Score</th>\n",
       "    </tr>\n",
       "  </thead>\n",
       "  <tbody>\n",
       "    <tr>\n",
       "      <th>5</th>\n",
       "      <td>GradientBoostingClassifier(random_state=1)</td>\n",
       "      <td>0.7873</td>\n",
       "    </tr>\n",
       "    <tr>\n",
       "      <th>0</th>\n",
       "      <td>LogisticRegression(random_state=1)</td>\n",
       "      <td>0.7836</td>\n",
       "    </tr>\n",
       "    <tr>\n",
       "      <th>7</th>\n",
       "      <td>KNeighborsClassifier()</td>\n",
       "      <td>0.7799</td>\n",
       "    </tr>\n",
       "    <tr>\n",
       "      <th>8</th>\n",
       "      <td>MLPClassifier(max_iter=1000, random_state=1)</td>\n",
       "      <td>0.7799</td>\n",
       "    </tr>\n",
       "    <tr>\n",
       "      <th>2</th>\n",
       "      <td>LinearSVC(dual='auto', random_state=1)</td>\n",
       "      <td>0.7761</td>\n",
       "    </tr>\n",
       "    <tr>\n",
       "      <th>1</th>\n",
       "      <td>SGDClassifier(random_state=1)</td>\n",
       "      <td>0.7649</td>\n",
       "    </tr>\n",
       "    <tr>\n",
       "      <th>4</th>\n",
       "      <td>RandomForestClassifier(random_state=1)</td>\n",
       "      <td>0.7649</td>\n",
       "    </tr>\n",
       "    <tr>\n",
       "      <th>6</th>\n",
       "      <td>GaussianProcessClassifier(random_state=1)</td>\n",
       "      <td>0.7649</td>\n",
       "    </tr>\n",
       "    <tr>\n",
       "      <th>3</th>\n",
       "      <td>AdaBoostClassifier(algorithm='SAMME', random_s...</td>\n",
       "      <td>0.7500</td>\n",
       "    </tr>\n",
       "    <tr>\n",
       "      <th>9</th>\n",
       "      <td>DecisionTreeClassifier(random_state=1)</td>\n",
       "      <td>0.7388</td>\n",
       "    </tr>\n",
       "  </tbody>\n",
       "</table>\n",
       "</div>"
      ],
      "text/plain": [
       "                                          Classifier   Score\n",
       "5         GradientBoostingClassifier(random_state=1)  0.7873\n",
       "0                 LogisticRegression(random_state=1)  0.7836\n",
       "7                             KNeighborsClassifier()  0.7799\n",
       "8       MLPClassifier(max_iter=1000, random_state=1)  0.7799\n",
       "2             LinearSVC(dual='auto', random_state=1)  0.7761\n",
       "1                      SGDClassifier(random_state=1)  0.7649\n",
       "4             RandomForestClassifier(random_state=1)  0.7649\n",
       "6          GaussianProcessClassifier(random_state=1)  0.7649\n",
       "3  AdaBoostClassifier(algorithm='SAMME', random_s...  0.7500\n",
       "9             DecisionTreeClassifier(random_state=1)  0.7388"
      ]
     },
     "execution_count": 254,
     "metadata": {},
     "output_type": "execute_result"
    }
   ],
   "source": [
    "#CLASSIFIER SELECTION\n",
    "\n",
    "from sklearn.linear_model import LogisticRegression, SGDClassifier\n",
    "from sklearn.svm import LinearSVC\n",
    "from sklearn.ensemble import AdaBoostClassifier, RandomForestClassifier, GradientBoostingClassifier\n",
    "from sklearn.gaussian_process import GaussianProcessClassifier\n",
    "from sklearn.neighbors import KNeighborsClassifier\n",
    "from sklearn.neural_network import MLPClassifier\n",
    "from sklearn.tree import DecisionTreeClassifier\n",
    "from xgboost import XGBClassifier\n",
    "\n",
    "classifiers = [LogisticRegression(random_state= 1), SGDClassifier(random_state= 1), LinearSVC(dual= 'auto', random_state= 1), \n",
    "               AdaBoostClassifier(algorithm= 'SAMME', random_state= 1), RandomForestClassifier(random_state= 1), \n",
    "               GradientBoostingClassifier(random_state= 1), GaussianProcessClassifier(random_state= 1), KNeighborsClassifier(),\n",
    "               MLPClassifier(max_iter= 1000, random_state= 1), DecisionTreeClassifier(random_state= 1)]\n",
    "\n",
    "print('--- CLASSIFIER SCORE ---')\n",
    "classifier_dict = dict()\n",
    "for clf in classifiers: \n",
    "    clf.fit(X_train, y_train)\n",
    "    score = round(clf.score(X_test, y_test), 4)\n",
    "    classifier_dict[str(clf)] = score\n",
    "\n",
    "score_df = pd.DataFrame(list(classifier_dict.items()), columns= ['Classifier','Score']).sort_values(by = 'Score', ascending= False)\n",
    "score_df"
   ]
  },
  {
   "cell_type": "markdown",
   "metadata": {},
   "source": [
    "#LOGISTIC REGRESSION GRID SEARCH\n",
    "\n",
    "from sklearn.model_selection import KFold, GridSearchCV\n",
    "\n",
    "cv = KFold(shuffle= True, random_state= 1)\n",
    "logistic_param_grid = {'penalty' : ['l1','l2'], \n",
    "                       'tol': [0.00001, 0.0001, 0.001, 0.01, 0.1], \n",
    "                       'C': np.arange(0.1, 1.01, 0.2), 'solver': ['liblinear'], 'multi_class': ['ovr'], \n",
    "                       'max_iter' : [100, 200, 500, 1000]}\n",
    "\n",
    "logreg = LogisticRegression(random_state= 1)\n",
    "logreg_cv = GridSearchCV(logreg, param_grid = logistic_param_grid, cv= cv)\n",
    "logreg_cv.fit(X_train, y_train)\n",
    "\n",
    "print(' --- OUTCOME ---')\n",
    "print(f'Best params: {logreg_cv.best_params_}\\nScore: {logreg_cv.score(X_test, y_test)}')"
   ]
  },
  {
   "cell_type": "markdown",
   "metadata": {},
   "source": [
    "#GRADIENT BOOSTING GRID SEARCH\n",
    "\n",
    "gradient_param_grid = {'loss': ['log_loss','exponential'], \n",
    "                       'learning_rate' : np.arange(0.0, 1.1, 0.1), \n",
    "                       'n_estimators' : np.arange(50, 250, 50), \n",
    "                       'criterion': ['friedman_mse', 'squared_error']}\n",
    "\n",
    "grad = GradientBoostingClassifier(random_state= 1)\n",
    "grad_cv = GridSearchCV(grad, param_grid= gradient_param_grid,cv = cv)\n",
    "grad_cv.fit(X_train, y_train)\n",
    "\n",
    "print(' --- OUTCOME ---')\n",
    "print(f'Best params: {grad_cv.best_params_}\\nScore: {grad_cv.score(X_test, y_test)}')"
   ]
  },
  {
   "cell_type": "markdown",
   "metadata": {},
   "source": [
    "#MLP CLASSIFIER GRID SEARCH \n",
    "\n",
    "mlp_param_grid = {'hidden_layer_sizes': [(100,), (200,), (300,)],\n",
    "                  'activation': ['relu', 'tanh', 'identity','logistic'],\n",
    "                  'solver': ['adam'],\n",
    "                  'alpha': [0.0001, 0.001],\n",
    "                  'learning_rate': ['constant', 'adaptive']}\n",
    "\n",
    "mlp = MLPClassifier(random_state= 1, max_iter= 2000)\n",
    "mlp_cv = GridSearchCV(mlp, param_grid= mlp_param_grid, cv = cv)\n",
    "mlp_cv.fit(X_train, y_train)\n",
    "\n",
    "print(' --- OUTCOME ---')\n",
    "print(f'Best params: {mlp_cv.best_params_}\\nScore: {mlp_cv.score(X_test, y_test)}')"
   ]
  },
  {
   "cell_type": "code",
   "execution_count": null,
   "metadata": {},
   "outputs": [
    {
     "data": {
      "text/plain": [
       "0.7873134328358209"
      ]
     },
     "execution_count": 252,
     "metadata": {},
     "output_type": "execute_result"
    }
   ],
   "source": [
    "from sklearn.ensemble import VotingClassifier\n",
    "\n",
    "best_logreg = LogisticRegression(C= 0.7, max_iter= 100, multi_class= 'ovr', \n",
    "                                  penalty = 'l2', solver= 'liblinear', tol = 0.1, random_state= 1)\n",
    "best_grad = GradientBoostingClassifier(criterion= 'friedman_mse', learning_rate= 0.1, loss = 'log_loss', n_estimators= 50, random_state= 1)\n",
    "best_mlp = MLPClassifier(activation= 'tanh', alpha = 0.0001, hidden_layer_sizes= (200,), max_iter = 2000, learning_rate= 'constant', solver = 'adam', random_state= 1)\n",
    "classifier_list = [('logreg', best_logreg), \n",
    "                   ('grad', best_grad), \n",
    "                   ('mlp', best_mlp)]\n",
    "voting = VotingClassifier(estimators= classifier_list, voting = 'soft')\n",
    "voting.fit(X_train, y_train)\n",
    "voting.score(X_test, y_test)"
   ]
  },
  {
   "cell_type": "code",
   "execution_count": null,
   "metadata": {},
   "outputs": [
    {
     "name": "stdout",
     "output_type": "stream",
     "text": [
      "0.8451178451178452\n"
     ]
    }
   ],
   "source": [
    "final_voter = VotingClassifier(estimators= classifier_list, voting = 'soft')\n",
    "final_voter.fit(X, y)\n",
    "print(final_voter.score(X, y))\n",
    "final_voter_pred = final_voter.predict(test_scaled)\n",
    "final_voter_df = pd.DataFrame(final_voter_pred, index = test.index, columns= ['Survived'])\n",
    "final_voter_df.to_csv('voter_classifier_predictions_v3.csv')"
   ]
  },
  {
   "cell_type": "markdown",
   "metadata": {},
   "source": [
    "import tensorflow as tf\n",
    "import tensorflow.keras.layers as tfl\n",
    "\n",
    "input_shape = (X_train.shape[1],)\n",
    "\n",
    "model = tf.keras.Sequential([ \n",
    "    tfl.Dense(32, activation = 'relu', input_shape = input_shape), \n",
    "    tfl.Dense(16, activation = 'relu'), \n",
    "    tfl.Dense(1, activation = 'sigmoid')\n",
    "])\n",
    "\n",
    "model.compile(optimizer = 'adam', \n",
    "              loss = tf.keras.losses.BinaryCrossentropy(), \n",
    "              metrics = [tf.keras.metrics.BinaryAccuracy(), tf.keras.metrics.FalseNegatives()])\n",
    "model.fit(X_train, y_train, epochs = 250, verbose = 0)\n",
    "pred_nn = model.predict(X_test)\n",
    "pred_nn = (pred_nn >= 0.5).astype(int)\n",
    "accuracy_nn = accuracy_score(y_test, pred_nn)\n",
    "print('Accuracy NN:', accuracy_nn)\n",
    "\n",
    "model.fit(X, y)\n",
    "pred_nn = model.predict(test_scaled)\n",
    "pred_nn = (pred_nn >= 0.5).astype(int)\n",
    "nn_df = pd.DataFrame(pred_nn, index = test.index, columns = ['Survived'])\n",
    "nn_df.to_csv('neural_network_v1.csv')"
   ]
  }
 ],
 "metadata": {
  "kernelspec": {
   "display_name": "Python 3",
   "language": "python",
   "name": "python3"
  },
  "language_info": {
   "codemirror_mode": {
    "name": "ipython",
    "version": 3
   },
   "file_extension": ".py",
   "mimetype": "text/x-python",
   "name": "python",
   "nbconvert_exporter": "python",
   "pygments_lexer": "ipython3",
   "version": "3.12.4"
  }
 },
 "nbformat": 4,
 "nbformat_minor": 2
}
